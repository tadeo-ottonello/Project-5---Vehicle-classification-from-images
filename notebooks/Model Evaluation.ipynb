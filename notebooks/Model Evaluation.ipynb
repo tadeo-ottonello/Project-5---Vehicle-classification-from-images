{
 "cells": [
  {
   "cell_type": "markdown",
   "id": "d11b9c24",
   "metadata": {},
   "source": [
    "# Vehicle Classification\n",
    "\n",
    "## Evaluate your model\n"
   ]
  },
  {
   "cell_type": "code",
   "execution_count": 1,
   "id": "1205a6a3",
   "metadata": {},
   "outputs": [],
   "source": [
    "import os\n",
    "from sklearn.metrics import accuracy_score, classification_report\n",
    "\n",
    "from utils import utils\n",
    "from models import resnet_50\n"
   ]
  },
  {
   "cell_type": "markdown",
   "id": "491a75b4",
   "metadata": {},
   "source": [
    "## Experiment settings"
   ]
  },
  {
   "cell_type": "code",
   "execution_count": 2,
   "id": "7939dadf",
   "metadata": {},
   "outputs": [],
   "source": [
    "CONFIG_YML = \"../experiments/exp_010/config.yml\"\n",
    "WEIGHTS = \"../experiments/exp_010/model.49-1.1983.h5\""
   ]
  },
  {
   "cell_type": "code",
   "execution_count": 3,
   "id": "afc06ab4",
   "metadata": {
    "scrolled": true
   },
   "outputs": [
    {
     "data": {
      "text/plain": [
       "{'seed': 123,\n",
       " 'data': {'directory': '/home/app/src/data/car_ims_v2/train',\n",
       "  'labels': 'inferred',\n",
       "  'label_mode': 'categorical',\n",
       "  'validation_split': 0.2,\n",
       "  'image_size': [224, 224],\n",
       "  'batch_size': 64},\n",
       " 'model': {'weights': 'imagenet',\n",
       "  'input_shape': [224, 224, 3],\n",
       "  'classes': 196,\n",
       "  'dropout_rate': 0.5,\n",
       "  'data_aug_layer': {'random_flip': {'mode': 'horizontal'},\n",
       "   'random_rotation': {'factor': 0.2,\n",
       "    'fill_mode': 'constant',\n",
       "    'fill_value': 125},\n",
       "   'random_zoom': {'height_factor': 0.2, 'width_factor': 0.2},\n",
       "   'random_contrast': {'factor': 0.2}}},\n",
       " 'compile': {'optimizer': {'adam': {'learning_rate': 0.0001}},\n",
       "  'loss': 'categorical_crossentropy',\n",
       "  'metrics': ['accuracy']},\n",
       " 'fit': {'epochs': 50,\n",
       "  'callbacks': {'model_checkpoint': {'filepath': '/home/app/src/experiments/exp_010/model.{epoch:02d}-{val_loss:.4f}.h5',\n",
       "    'save_best_only': True},\n",
       "   'tensor_board': {'log_dir': '/home/app/src/experiments/exp_010/logs'}}}}"
      ]
     },
     "execution_count": 3,
     "metadata": {},
     "output_type": "execute_result"
    }
   ],
   "source": [
    "config = utils.load_config(CONFIG_YML)\n",
    "config"
   ]
  },
  {
   "cell_type": "code",
   "execution_count": 4,
   "id": "435199e0",
   "metadata": {},
   "outputs": [],
   "source": [
    "MODEL_CLASSES = utils.get_class_names(config)\n",
    "\n",
    "if len(MODEL_CLASSES) != config['model']['classes']:\n",
    "    raise ValueError(\n",
    "        \"Number of classes doesn't match between your model \"\n",
    "        \"and your data!\"\n",
    "    )\n",
    "\n",
    "_dirname, _ = os.path.split(config['data']['directory'])\n",
    "TEST_FOLDER = os.path.join(_dirname, 'test')\n",
    "\n",
    "if not os.path.exists(TEST_FOLDER):\n",
    "    raise ValueError(\"'test' folder not found!\")\n",
    "    \n",
    "if len(os.listdir(TEST_FOLDER)) != config['model']['classes']:\n",
    "    raise ValueError(\n",
    "        \"Number of classes doesn't match between your model \"\n",
    "        \"and your testing dataset!\"\n",
    "    )\n",
    "    \n",
    "if set(os.listdir(TEST_FOLDER)) != set(MODEL_CLASSES):\n",
    "    raise ValueError(\n",
    "        \"The name of the subfolders inside your test set \"\n",
    "        \"doesn't match with the model classes!\"\n",
    "    )"
   ]
  },
  {
   "cell_type": "markdown",
   "id": "85511441",
   "metadata": {},
   "source": [
    "## Load your model"
   ]
  },
  {
   "cell_type": "code",
   "execution_count": 5,
   "id": "12f91894",
   "metadata": {
    "scrolled": true
   },
   "outputs": [
    {
     "name": "stderr",
     "output_type": "stream",
     "text": [
      "2022-06-27 17:55:14.391300: I tensorflow/stream_executor/cuda/cuda_gpu_executor.cc:936] successful NUMA node read from SysFS had negative value (-1), but there must be at least one NUMA node, so returning NUMA node zero\n",
      "2022-06-27 17:55:14.400096: I tensorflow/stream_executor/cuda/cuda_gpu_executor.cc:936] successful NUMA node read from SysFS had negative value (-1), but there must be at least one NUMA node, so returning NUMA node zero\n",
      "2022-06-27 17:55:14.400969: I tensorflow/stream_executor/cuda/cuda_gpu_executor.cc:936] successful NUMA node read from SysFS had negative value (-1), but there must be at least one NUMA node, so returning NUMA node zero\n",
      "2022-06-27 17:55:14.402867: I tensorflow/core/platform/cpu_feature_guard.cc:151] This TensorFlow binary is optimized with oneAPI Deep Neural Network Library (oneDNN) to use the following CPU instructions in performance-critical operations:  AVX2 FMA\n",
      "To enable them in other operations, rebuild TensorFlow with the appropriate compiler flags.\n",
      "2022-06-27 17:55:14.403361: I tensorflow/stream_executor/cuda/cuda_gpu_executor.cc:936] successful NUMA node read from SysFS had negative value (-1), but there must be at least one NUMA node, so returning NUMA node zero\n",
      "2022-06-27 17:55:14.404180: I tensorflow/stream_executor/cuda/cuda_gpu_executor.cc:936] successful NUMA node read from SysFS had negative value (-1), but there must be at least one NUMA node, so returning NUMA node zero\n",
      "2022-06-27 17:55:14.404970: I tensorflow/stream_executor/cuda/cuda_gpu_executor.cc:936] successful NUMA node read from SysFS had negative value (-1), but there must be at least one NUMA node, so returning NUMA node zero\n",
      "2022-06-27 17:55:15.009181: I tensorflow/stream_executor/cuda/cuda_gpu_executor.cc:936] successful NUMA node read from SysFS had negative value (-1), but there must be at least one NUMA node, so returning NUMA node zero\n",
      "2022-06-27 17:55:15.010042: I tensorflow/stream_executor/cuda/cuda_gpu_executor.cc:936] successful NUMA node read from SysFS had negative value (-1), but there must be at least one NUMA node, so returning NUMA node zero\n",
      "2022-06-27 17:55:15.010834: I tensorflow/stream_executor/cuda/cuda_gpu_executor.cc:936] successful NUMA node read from SysFS had negative value (-1), but there must be at least one NUMA node, so returning NUMA node zero\n",
      "2022-06-27 17:55:15.011597: I tensorflow/core/common_runtime/gpu/gpu_device.cc:1525] Created device /job:localhost/replica:0/task:0/device:GPU:0 with 10794 MB memory:  -> device: 0, name: Tesla K80, pci bus id: 0000:00:1e.0, compute capability: 3.7\n"
     ]
    },
    {
     "name": "stdout",
     "output_type": "stream",
     "text": [
      "Model: \"model\"\n",
      "_________________________________________________________________\n",
      " Layer (type)                Output Shape              Param #   \n",
      "=================================================================\n",
      " input_1 (InputLayer)        [(None, 224, 224, 3)]     0         \n",
      "                                                                 \n",
      " sequential (Sequential)     (None, 224, 224, 3)       0         \n",
      "                                                                 \n",
      " tf.__operators__.getitem (S  (None, 224, 224, 3)      0         \n",
      " licingOpLambda)                                                 \n",
      "                                                                 \n",
      " tf.nn.bias_add (TFOpLambda)  (None, 224, 224, 3)      0         \n",
      "                                                                 \n",
      " resnet50 (Functional)       (None, 2048)              23587712  \n",
      "                                                                 \n",
      " dropout (Dropout)           (None, 2048)              0         \n",
      "                                                                 \n",
      " dense (Dense)               (None, 196)               401604    \n",
      "                                                                 \n",
      "=================================================================\n",
      "Total params: 23,989,316\n",
      "Trainable params: 23,936,196\n",
      "Non-trainable params: 53,120\n",
      "_________________________________________________________________\n",
      "None\n"
     ]
    }
   ],
   "source": [
    "cnn_model = resnet_50.create_model(weights = WEIGHTS)\n",
    "\n",
    "print(cnn_model.summary())"
   ]
  },
  {
   "cell_type": "markdown",
   "id": "b6a33cbb",
   "metadata": {},
   "source": [
    "## Get predictions from testing dataset"
   ]
  },
  {
   "cell_type": "code",
   "execution_count": 6,
   "id": "cce894dd",
   "metadata": {},
   "outputs": [
    {
     "name": "stderr",
     "output_type": "stream",
     "text": [
      "2022-06-27 17:55:23.694491: I tensorflow/stream_executor/cuda/cuda_dnn.cc:368] Loaded cuDNN version 8200\n",
      "2022-06-27 17:55:23.969219: I tensorflow/core/platform/default/subprocess.cc:304] Start cannot spawn child process: No such file or directory\n",
      "2022-06-27 17:55:23.969722: I tensorflow/core/platform/default/subprocess.cc:304] Start cannot spawn child process: No such file or directory\n",
      "2022-06-27 17:55:23.969769: W tensorflow/stream_executor/gpu/asm_compiler.cc:80] Couldn't get ptxas version string: INTERNAL: Couldn't invoke ptxas --version\n",
      "2022-06-27 17:55:23.970367: I tensorflow/core/platform/default/subprocess.cc:304] Start cannot spawn child process: No such file or directory\n",
      "2022-06-27 17:55:23.970455: W tensorflow/stream_executor/gpu/redzone_allocator.cc:314] INTERNAL: Failed to launch ptxas\n",
      "Relying on driver to perform ptx compilation. \n",
      "Modify $PATH to customize ptxas location.\n",
      "This message will be only logged once.\n"
     ]
    }
   ],
   "source": [
    "predictions, labels = utils.predict_from_folder(\n",
    "    folder=TEST_FOLDER, \n",
    "    model=cnn_model, \n",
    "    input_size=config[\"data\"][\"image_size\"], \n",
    "    class_names=MODEL_CLASSES,\n",
    ")\n",
    "\n",
    "if len(predictions) != len(labels):\n",
    "    raise ValueError(\n",
    "        \"The lenght of predictions and labels lists doesn't match!\"\n",
    "    )\n",
    "\n",
    "if not isinstance(predictions[0], str):\n",
    "    raise ValueError(\n",
    "        \"Model predictions should be represented as string. E.g: 'Acura RL Sedan 2012'\"\n",
    "    )\n",
    "\n",
    "if not isinstance(labels[0], str):\n",
    "    raise ValueError(\n",
    "        \"Ground true labels should be represented as string. E.g: 'Acura RL Sedan 2012'\"\n",
    "    )\n"
   ]
  },
  {
   "cell_type": "code",
   "execution_count": 7,
   "id": "52b06098",
   "metadata": {
    "scrolled": true
   },
   "outputs": [
    {
     "name": "stdout",
     "output_type": "stream",
     "text": [
      "                                                        precision    recall  f1-score   support\n",
      "\n",
      "                            AM_General_Hummer_SUV_2000       0.70      0.95      0.81        44\n",
      "                             Acura_Integra_Type_R_2001       0.97      0.66      0.78        44\n",
      "                                   Acura_RL_Sedan_2012       0.70      0.66      0.68        32\n",
      "                                   Acura_TL_Sedan_2012       0.83      0.67      0.74        43\n",
      "                                  Acura_TL_Type-S_2008       1.00      0.90      0.95        42\n",
      "                                  Acura_TSX_Sedan_2012       1.00      0.57      0.73        40\n",
      "                              Acura_ZDX_Hatchback_2012       0.45      0.87      0.59        39\n",
      "              Aston_Martin_V8_Vantage_Convertible_2012       0.51      0.64      0.57        45\n",
      "                    Aston_Martin_V8_Vantage_Coupe_2012       0.89      0.20      0.32        41\n",
      "                  Aston_Martin_Virage_Convertible_2012       0.76      0.58      0.66        33\n",
      "                        Aston_Martin_Virage_Coupe_2012       0.91      0.82      0.86        38\n",
      "                                   Audi_100_Sedan_1994       0.51      0.68      0.58        40\n",
      "                                   Audi_100_Wagon_1994       0.57      0.19      0.29        42\n",
      "                                    Audi_A5_Coupe_2012       0.52      0.85      0.65        41\n",
      "                                    Audi_R8_Coupe_2012       1.00      0.53      0.70        43\n",
      "                            Audi_RS_4_Convertible_2008       0.45      0.81      0.58        36\n",
      "                                    Audi_S4_Sedan_2007       0.62      0.56      0.59        45\n",
      "                                    Audi_S4_Sedan_2012       0.85      0.28      0.42        39\n",
      "                              Audi_S5_Convertible_2012       0.81      0.31      0.45        42\n",
      "                                    Audi_S5_Coupe_2012       0.47      0.19      0.27        42\n",
      "                                    Audi_S6_Sedan_2011       0.90      0.80      0.85        46\n",
      "                                   Audi_TTS_Coupe_2012       0.71      0.36      0.48        42\n",
      "                                Audi_TT_Hatchback_2011       0.61      0.50      0.55        40\n",
      "                                 Audi_TT_RS_Coupe_2012       0.55      0.85      0.67        39\n",
      "                                    Audi_V8_Sedan_1994       0.70      0.44      0.54        43\n",
      "                         BMW_1_Series_Convertible_2012       0.94      0.83      0.88        35\n",
      "                               BMW_1_Series_Coupe_2012       0.96      0.59      0.73        41\n",
      "                               BMW_3_Series_Sedan_2012       0.93      0.62      0.74        42\n",
      "                               BMW_3_Series_Wagon_2012       0.93      0.63      0.75        41\n",
      "                         BMW_6_Series_Convertible_2007       0.77      0.23      0.35        44\n",
      "                         BMW_ActiveHybrid_5_Sedan_2012       0.94      0.85      0.89        34\n",
      "                                     BMW_M3_Coupe_2012       0.93      0.61      0.74        44\n",
      "                                     BMW_M5_Sedan_2010       0.69      0.80      0.74        41\n",
      "                               BMW_M6_Convertible_2010       0.39      0.85      0.54        41\n",
      "                                       BMW_X3_SUV_2012       1.00      0.58      0.73        38\n",
      "                                       BMW_X5_SUV_2007       0.78      0.85      0.81        41\n",
      "                                       BMW_X6_SUV_2012       0.88      0.69      0.77        42\n",
      "                               BMW_Z4_Convertible_2012       0.63      0.30      0.41        40\n",
      "                             Bentley_Arnage_Sedan_2009       0.80      0.92      0.86        39\n",
      "            Bentley_Continental_Flying_Spur_Sedan_2007       0.81      0.50      0.62        44\n",
      "                     Bentley_Continental_GT_Coupe_2007       0.46      0.80      0.58        46\n",
      "                     Bentley_Continental_GT_Coupe_2012       0.61      0.59      0.60        34\n",
      "Bentley_Continental_Supersports_Conv._Convertible_2012       1.00      0.58      0.74        36\n",
      "                           Bentley_Mulsanne_Sedan_2011       0.82      0.80      0.81        35\n",
      "                  Bugatti_Veyron_16.4_Convertible_2009       0.90      0.28      0.43        32\n",
      "                        Bugatti_Veyron_16.4_Coupe_2009       0.49      0.88      0.63        43\n",
      "                                Buick_Enclave_SUV_2012       0.95      0.93      0.94        42\n",
      "                                Buick_Rainier_SUV_2007       1.00      0.74      0.85        42\n",
      "                                   Buick_Regal_GS_2012       1.00      0.60      0.75        35\n",
      "                               Buick_Verano_Sedan_2012       0.96      0.73      0.83        37\n",
      "                             Cadillac_CTS-V_Sedan_2012       0.70      0.91      0.79        43\n",
      "                   Cadillac_Escalade_EXT_Crew_Cab_2007       0.84      0.84      0.84        44\n",
      "                                 Cadillac_SRX_SUV_2012       0.95      0.88      0.91        41\n",
      "                     Chevrolet_Avalanche_Crew_Cab_2012       0.52      0.87      0.65        45\n",
      "                     Chevrolet_Camaro_Convertible_2012       1.00      0.43      0.60        44\n",
      "                              Chevrolet_Cobalt_SS_2010       0.74      0.83      0.78        41\n",
      "                   Chevrolet_Corvette_Convertible_2012       0.66      0.59      0.62        39\n",
      "       Chevrolet_Corvette_Ron_Fellows_Edition_Z06_2007       0.89      0.65      0.75        37\n",
      "                           Chevrolet_Corvette_ZR1_2012       0.64      0.76      0.69        46\n",
      "                      Chevrolet_Express_Cargo_Van_2007       0.46      0.79      0.58        29\n",
      "                            Chevrolet_Express_Van_2007       0.57      0.23      0.33        35\n",
      "                                 Chevrolet_HHR_SS_2010       0.94      0.89      0.91        36\n",
      "                           Chevrolet_Impala_Sedan_2007       0.92      0.77      0.84        43\n",
      "                    Chevrolet_Malibu_Hybrid_Sedan_2010       0.97      0.74      0.84        38\n",
      "                           Chevrolet_Malibu_Sedan_2007       1.00      0.75      0.86        44\n",
      "                      Chevrolet_Monte_Carlo_Coupe_2007       0.77      0.73      0.75        45\n",
      "    Chevrolet_Silverado_1500_Classic_Extended_Cab_2007       0.79      0.98      0.87        42\n",
      "            Chevrolet_Silverado_1500_Extended_Cab_2012       0.73      0.44      0.55        43\n",
      "         Chevrolet_Silverado_1500_Hybrid_Crew_Cab_2012       0.52      0.57      0.55        40\n",
      "             Chevrolet_Silverado_1500_Regular_Cab_2012       0.53      0.57      0.55        44\n",
      "           Chevrolet_Silverado_2500HD_Regular_Cab_2012       0.70      0.74      0.72        38\n",
      "                            Chevrolet_Sonic_Sedan_2012       0.44      1.00      0.61        44\n",
      "                       Chevrolet_Tahoe_Hybrid_SUV_2012       0.88      0.19      0.31        37\n",
      "                         Chevrolet_TrailBlazer_SS_2009       1.00      0.85      0.92        40\n",
      "                           Chevrolet_Traverse_SUV_2012       0.74      0.91      0.82        44\n",
      "                               Chrysler_300_SRT-8_2010       0.71      0.77      0.74        48\n",
      "                               Chrysler_Aspen_SUV_2009       0.91      0.91      0.91        43\n",
      "                   Chrysler_Crossfire_Convertible_2008       0.83      0.88      0.85        43\n",
      "                  Chrysler_PT_Cruiser_Convertible_2008       0.96      0.98      0.97        45\n",
      "                     Chrysler_Sebring_Convertible_2010       0.85      0.85      0.85        40\n",
      "                Chrysler_Town_and_Country_Minivan_2012       0.84      0.84      0.84        37\n",
      "                              Daewoo_Nubira_Wagon_2002       0.96      0.60      0.74        45\n",
      "                              Dodge_Caliber_Wagon_2007       0.60      0.07      0.13        42\n",
      "                              Dodge_Caliber_Wagon_2012       0.43      0.90      0.58        40\n",
      "                            Dodge_Caravan_Minivan_1997       1.00      0.91      0.95        43\n",
      "                            Dodge_Challenger_SRT8_2011       1.00      0.64      0.78        39\n",
      "                              Dodge_Charger_SRT-8_2009       0.65      0.57      0.61        42\n",
      "                              Dodge_Charger_Sedan_2012       0.77      0.66      0.71        41\n",
      "                            Dodge_Dakota_Club_Cab_2007       0.62      0.95      0.75        38\n",
      "                            Dodge_Dakota_Crew_Cab_2010       0.83      0.85      0.84        41\n",
      "                                Dodge_Durango_SUV_2007       0.74      0.78      0.76        45\n",
      "                                Dodge_Durango_SUV_2012       0.94      0.79      0.86        43\n",
      "                                Dodge_Journey_SUV_2012       0.93      0.89      0.91        44\n",
      "                               Dodge_Magnum_Wagon_2008       0.68      0.70      0.69        40\n",
      "                   Dodge_Ram_Pickup_3500_Crew_Cab_2010       0.97      0.86      0.91        42\n",
      "                   Dodge_Ram_Pickup_3500_Quad_Cab_2009       0.82      0.70      0.76        44\n",
      "                         Dodge_Sprinter_Cargo_Van_2009       0.66      0.69      0.68        39\n",
      "                            Eagle_Talon_Hatchback_1998       0.51      0.89      0.65        46\n",
      "                                  FIAT_500_Abarth_2012       0.87      0.96      0.91        27\n",
      "                             FIAT_500_Convertible_2012       0.94      0.88      0.91        33\n",
      "                   Ferrari_458_Italia_Convertible_2012       0.71      0.56      0.63        39\n",
      "                         Ferrari_458_Italia_Coupe_2012       0.61      0.79      0.69        42\n",
      "                   Ferrari_California_Convertible_2012       0.97      0.87      0.92        39\n",
      "                                 Ferrari_FF_Coupe_2012       0.86      0.74      0.79        42\n",
      "                               Fisker_Karma_Sedan_2012       0.58      0.95      0.72        43\n",
      "                          Ford_E-Series_Wagon_Van_2012       0.77      0.92      0.84        37\n",
      "                                    Ford_Edge_SUV_2012       0.92      0.81      0.86        43\n",
      "                           Ford_Expedition_EL_SUV_2009       0.97      0.70      0.82        44\n",
      "                           Ford_F-150_Regular_Cab_2007       0.75      0.93      0.83        45\n",
      "                           Ford_F-150_Regular_Cab_2012       0.75      1.00      0.86        42\n",
      "                   Ford_F-450_Super_Duty_Crew_Cab_2012       1.00      0.73      0.85        41\n",
      "                                Ford_Fiesta_Sedan_2012       0.60      0.86      0.71        42\n",
      "                                 Ford_Focus_Sedan_2007       0.82      0.80      0.81        45\n",
      "                            Ford_Freestar_Minivan_2007       0.93      0.95      0.94        44\n",
      "                                    Ford_GT_Coupe_2006       0.58      0.78      0.67        45\n",
      "                         Ford_Mustang_Convertible_2007       0.77      0.84      0.80        44\n",
      "                             Ford_Ranger_SuperCab_2011       0.88      0.88      0.88        42\n",
      "                                   GMC_Acadia_SUV_2012       0.75      0.91      0.82        44\n",
      "                          GMC_Canyon_Extended_Cab_2012       0.94      0.82      0.88        40\n",
      "                                   GMC_Savana_Van_2012       0.83      0.72      0.77        68\n",
      "                                  GMC_Terrain_SUV_2012       0.94      0.73      0.82        41\n",
      "                             GMC_Yukon_Hybrid_SUV_2012       0.67      0.79      0.73        42\n",
      "                            Geo_Metro_Convertible_1993       0.84      0.73      0.78        44\n",
      "                           HUMMER_H2_SUT_Crew_Cab_2009       0.90      0.65      0.76        43\n",
      "                              HUMMER_H3T_Crew_Cab_2010       0.83      0.77      0.80        39\n",
      "                               Honda_Accord_Coupe_2012       0.93      0.69      0.79        39\n",
      "                               Honda_Accord_Sedan_2012       0.90      0.47      0.62        38\n",
      "                            Honda_Odyssey_Minivan_2007       0.80      0.85      0.82        41\n",
      "                            Honda_Odyssey_Minivan_2012       0.90      0.83      0.86        42\n",
      "                             Hyundai_Accent_Sedan_2012       0.86      0.75      0.80        24\n",
      "                              Hyundai_Azera_Sedan_2012       0.48      0.90      0.63        42\n",
      "                            Hyundai_Elantra_Sedan_2007       0.94      0.79      0.86        42\n",
      "                Hyundai_Elantra_Touring_Hatchback_2012       0.97      0.71      0.82        42\n",
      "                            Hyundai_Genesis_Sedan_2012       0.57      0.93      0.71        43\n",
      "                             Hyundai_Santa_Fe_SUV_2012       1.00      0.79      0.88        42\n",
      "                      Hyundai_Sonata_Hybrid_Sedan_2012       0.93      0.82      0.87        33\n",
      "                             Hyundai_Sonata_Sedan_2012       0.92      0.85      0.88        39\n",
      "                               Hyundai_Tucson_SUV_2012       0.86      0.84      0.85        43\n",
      "                       Hyundai_Veloster_Hatchback_2012       0.97      0.68      0.80        41\n",
      "                             Hyundai_Veracruz_SUV_2012       0.75      0.86      0.80        42\n",
      "                             Infiniti_G_Coupe_IPL_2012       0.72      0.76      0.74        34\n",
      "                                Infiniti_QX56_SUV_2011       0.72      0.88      0.79        32\n",
      "                               Isuzu_Ascender_SUV_2008       1.00      0.75      0.86        40\n",
      "                                    Jaguar_XK_XKR_2012       0.89      0.91      0.90        46\n",
      "                                 Jeep_Compass_SUV_2012       0.77      0.95      0.85        42\n",
      "                          Jeep_Grand_Cherokee_SUV_2012       1.00      0.40      0.57        45\n",
      "                                 Jeep_Liberty_SUV_2012       0.88      0.86      0.87        44\n",
      "                                 Jeep_Patriot_SUV_2012       0.58      0.95      0.72        44\n",
      "                                Jeep_Wrangler_SUV_2012       0.72      1.00      0.83        43\n",
      "                      Lamborghini_Aventador_Coupe_2012       0.96      0.56      0.71        43\n",
      "                         Lamborghini_Diablo_Coupe_2001       0.75      0.91      0.82        44\n",
      "       Lamborghini_Gallardo_LP_570-4_Superleggera_2012       0.97      0.80      0.88        35\n",
      "                       Lamborghini_Reventon_Coupe_2008       0.44      0.97      0.61        36\n",
      "                               Land_Rover_LR2_SUV_2012       0.97      0.83      0.90        42\n",
      "                       Land_Rover_Range_Rover_SUV_2012       0.91      0.93      0.92        42\n",
      "                           Lincoln_Town_Car_Sedan_2011       1.00      0.79      0.89        39\n",
      "                 MINI_Cooper_Roadster_Convertible_2012       0.89      0.86      0.87        36\n",
      "                    Maybach_Landaulet_Convertible_2012       0.71      0.76      0.73        29\n",
      "                                Mazda_Tribute_SUV_2011       0.95      0.58      0.72        36\n",
      "                            McLaren_MP4-12C_Coupe_2012       0.90      0.86      0.88        44\n",
      "              Mercedes-Benz_300-Class_Convertible_1993       0.56      0.92      0.70        48\n",
      "                      Mercedes-Benz_C-Class_Sedan_2012       0.94      0.73      0.83        45\n",
      "                      Mercedes-Benz_E-Class_Sedan_2012       0.35      0.91      0.51        43\n",
      "                      Mercedes-Benz_S-Class_Sedan_2012       0.93      0.57      0.70        44\n",
      "                     Mercedes-Benz_SL-Class_Coupe_2009       0.85      0.61      0.71        36\n",
      "                       Mercedes-Benz_Sprinter_Van_2012       0.80      0.88      0.84        41\n",
      "                          Mitsubishi_Lancer_Sedan_2012       0.79      0.57      0.67        47\n",
      "                               Nissan_240SX_Coupe_1998       0.92      0.72      0.80        46\n",
      "                            Nissan_Juke_Hatchback_2012       0.87      0.93      0.90        44\n",
      "                            Nissan_Leaf_Hatchback_2012       1.00      0.86      0.92        42\n",
      "                          Nissan_NV_Passenger_Van_2012       1.00      0.76      0.87        38\n",
      "                              Plymouth_Neon_Coupe_1999       0.82      0.82      0.82        44\n",
      "                           Porsche_Panamera_Sedan_2012       0.66      0.93      0.77        43\n",
      "                        Ram_C-V_Cargo_Van_Minivan_2012       0.96      0.56      0.71        41\n",
      "                          Rolls-Royce_Ghost_Sedan_2012       0.74      0.74      0.74        38\n",
      "   Rolls-Royce_Phantom_Drophead_Coupe_Convertible_2012       0.64      0.93      0.76        30\n",
      "                        Rolls-Royce_Phantom_Sedan_2012       0.90      0.43      0.58        44\n",
      "                               Scion_xD_Hatchback_2012       0.80      0.90      0.85        41\n",
      "                            Spyker_C8_Convertible_2009       0.52      0.96      0.68        45\n",
      "                                  Spyker_C8_Coupe_2009       0.56      0.57      0.56        42\n",
      "                               Suzuki_Aerio_Sedan_2007       0.88      0.79      0.83        38\n",
      "                             Suzuki_Kizashi_Sedan_2012       0.38      0.85      0.53        46\n",
      "                             Suzuki_SX4_Hatchback_2012       0.54      0.88      0.67        42\n",
      "                                 Suzuki_SX4_Sedan_2012       0.62      0.40      0.48        40\n",
      "                              Tesla_Model_S_Sedan_2012       0.96      0.63      0.76        38\n",
      "                               Toyota_4Runner_SUV_2012       0.78      0.97      0.87        40\n",
      "                               Toyota_Camry_Sedan_2012       0.79      0.79      0.79        43\n",
      "                             Toyota_Corolla_Sedan_2012       0.89      0.58      0.70        43\n",
      "                               Toyota_Sequoia_SUV_2012       0.95      0.92      0.93        38\n",
      "                      Volkswagen_Beetle_Hatchback_2012       0.86      0.90      0.88        42\n",
      "                        Volkswagen_Golf_Hatchback_1991       0.43      1.00      0.61        46\n",
      "                        Volkswagen_Golf_Hatchback_2012       1.00      0.51      0.68        43\n",
      "                                  Volvo_240_Sedan_1993       0.91      0.89      0.90        45\n",
      "                              Volvo_C30_Hatchback_2012       0.97      0.78      0.86        41\n",
      "                                   Volvo_XC90_SUV_2007       1.00      0.65      0.79        43\n",
      "                         smart_fortwo_Convertible_2012       0.77      0.85      0.81        40\n",
      "\n",
      "                                              accuracy                           0.74      8041\n",
      "                                             macro avg       0.79      0.74      0.74      8041\n",
      "                                          weighted avg       0.79      0.74      0.74      8041\n",
      "\n"
     ]
    }
   ],
   "source": [
    "print(classification_report(y_true=labels, y_pred=predictions))"
   ]
  },
  {
   "cell_type": "code",
   "execution_count": 8,
   "id": "e8342c09",
   "metadata": {},
   "outputs": [
    {
     "name": "stdout",
     "output_type": "stream",
     "text": [
      "Your model accuracy is 0.7416!\n"
     ]
    }
   ],
   "source": [
    "acc = accuracy_score(y_true=labels, y_pred=predictions)\n",
    "\n",
    "print(f\"Your model accuracy is {acc:.4f}!\")\n",
    "\n",
    "if acc < .3:\n",
    "    raise ValueError(\"Your model accuracy is too low :(\\nYou can do it better! :)\")\n"
   ]
  }
 ],
 "metadata": {
  "kernelspec": {
   "display_name": "Python 3 (ipykernel)",
   "language": "python",
   "name": "python3"
  },
  "language_info": {
   "codemirror_mode": {
    "name": "ipython",
    "version": 3
   },
   "file_extension": ".py",
   "mimetype": "text/x-python",
   "name": "python",
   "nbconvert_exporter": "python",
   "pygments_lexer": "ipython3",
   "version": "3.8.7"
  },
  "vscode": {
   "interpreter": {
    "hash": "1d927cf7450bcc3606565cd236bda40ebe55b6128bddee8109386870f1ca1865"
   }
  }
 },
 "nbformat": 4,
 "nbformat_minor": 5
}
